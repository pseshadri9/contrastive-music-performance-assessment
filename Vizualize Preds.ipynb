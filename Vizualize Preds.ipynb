{
 "cells": [
  {
   "cell_type": "code",
   "execution_count": 2,
   "metadata": {},
   "outputs": [],
   "source": [
    "from __future__ import print_function\n",
    "import gc\n",
    "import os\n",
    "import sys\n",
    "import math\n",
    "import time\n",
    "import scipy.stats as ss\n",
    "import numpy as np\n",
    "import torch\n",
    "import torch.optim as optim\n",
    "import torch.nn as nn\n",
    "import torch.nn.functional as F\n",
    "from torch.autograd import Variable\n",
    "from models.PCConvNet import PCConvNet, PCConvNetCls\n",
    "from models.PCConvLstmNet import PCConvLstmNet, PCConvLstmNetCls\n",
    "from dataLoaders.PitchContourDataset import PitchContourDataset\n",
    "from dataLoaders.PitchContourDataloader import PitchContourDataloader\n",
    "from dataLoaders.MASTDataset import MASTDataset\n",
    "from dataLoaders.MASTDataloader import MASTDataloader\n",
    "from tensorboard_logger import configure, log_value\n",
    "from sklearn import metrics\n",
    "import eval_utils\n",
    "import train_utils\n",
    "import dill\n",
    "import matplotlib.pyplot as plot\n",
    "from sklearn.manifold import TSNE\n"
   ]
  },
  {
   "cell_type": "code",
   "execution_count": 7,
   "metadata": {},
   "outputs": [
    {
     "name": "stdout",
     "output_type": "stream",
     "text": [
      "Running on GPU:  True\n"
     ]
    }
   ],
   "source": [
    "# set manual random seed for reproducibility\n",
    "torch.manual_seed(1)\n",
    "np.random.seed(1)\n",
    "# check is cuda is available and print result\n",
    "CUDA_AVAILABLE = torch.cuda.is_available()\n",
    "print('Running on GPU: ', CUDA_AVAILABLE)\n",
    "if CUDA_AVAILABLE != True:\n",
    "    import matplotlib.pyplot as plt\n",
    "    import matplotlib.image as mpimg\n",
    "\n",
    "# initialize training parameters\n",
    "RUN = 110\n",
    "NUM_EPOCHS = 2000\n",
    "NUM_DATA_POINTS = 1550  # with the current data, this should be set to 1550 for symphonic band and 1410 for middle school band\n",
    "NUM_BATCHES = 10\n",
    "BAND = 'symphonic'\n",
    "SEGMENT = '2'\n",
    "MTYPE = 'conv'\n",
    "CTYPE = 0\n",
    "# initialize dataset, dataloader and created batched data\n",
    "\n",
    "#SET CONSTANTS\n",
    "metric_type = {0:'musicality', 1:'note accuracy',2:'Rhythm Accuracy',3:'tonality'}\n",
    "instrument = 'saxophone'\n",
    "cross_instrument = 'saxophone'\n",
    "experiment = 'all-run' #if instrument == 'ALL' else 'all-run2'\n",
    "METRIC = 2\n",
    "BAND = 'middle'\n",
    "ADD_NOISE_TEST = False\n",
    "ADD_NOISE_VALID = False\n",
    "NOISE_SHAPE = 'triangular'  #triangular, normal, or uniform\n",
    "INPUT_REP = 'Cepstrum'\n",
    "NAME = '{0}_{1}_{2}_{3}_{4}'.format(BAND, instrument, metric_type[METRIC], INPUT_REP, experiment)"
   ]
  },
  {
   "cell_type": "code",
   "execution_count": 8,
   "metadata": {},
   "outputs": [
    {
     "name": "stdout",
     "output_type": "stream",
     "text": [
      "696\n",
      "{'year': '2013', 'band': 'middleschool', 'instrumemt': 'Alto Saxophone', 'student_id': 28588, 'segment': 2, 'audio': (array([0.0034837 , 0.00544147, 0.00478444, ..., 0.0046058 , 0.00369738,\n",
      "       0.00392769], dtype=float32), 22050), 'pitch_contour': array([0., 0., 0., ..., 0., 0., 0.]), 'ratings': (0.5, 0.9, 0.9, 0.6), 'class_ratings': [5.0, 9.0, 9.0, 6.0], 'length': 4400}\n"
     ]
    }
   ],
   "source": [
    "\n",
    "datasets = {'flute':{'test':'/media/SSD/FBA/crossInstr/middle_Flute__test.dill', 'train':'/media/SSD/FBA/crossInstr/middle_Flute__train_fixed.dill', 'valid':'/media/SSD/FBA/crossInstr/middle_Flute__valid.dill'},\n",
    "            'clarinet':{'test':'/media/SSD/FBA/crossInstr/middle_Bb Clarinet__test.dill', 'train':'/media/SSD/FBA/crossInstr/middle_Bb Clarinet__train.dill', 'valid':'/media/SSD/FBA/crossInstr/middle_Bb Clarinet__valid.dill'},\n",
    "            'saxophone':{'test':'/media/SSD/FBA/crossInstr/middle_Alto Saxophone__test.dill', 'train':'/media/SSD/FBA/crossInstr/middle_Alto Saxophone__train.dill', 'valid':'/media/SSD/FBA/crossInstr/middle_Alto Saxophone__valid.dill'}}\n",
    "datasets_all = {'flute': '/media/SSD/FBA/crossInstr/middle_Flute_.dill', 'saxophone': '/media/SSD/FBA/crossInstr/middle_Alto Saxophone_.dill', 'clarinet':'/media/SSD/FBA/crossInstr/middle_Bb Clarinet_.dill', \n",
    "                'ALL':'/media/SSD/FBA/saved_dill/middle_2_new_dataPC.dill'}\n",
    "file_name = BAND + '_' + str(SEGMENT) + '_data'\n",
    "with open(datasets_all[cross_instrument], 'rb') as f:\n",
    "    NUM_DATA_POINTS = len(dill.load(f))\n",
    "if sys.version_info[0] < 3:\n",
    "    data_path = 'dat/' + file_name + '.dill'\n",
    "    mast_path = '/Users/Som/GitHub/Mastmelody_dataset/f0data'\n",
    "else:\n",
    "    if torch.cuda.is_available():\n",
    "        data_path = '/home/data_share/FBA/fall19/data/pitch_contour/' + BAND + '_2_pc_3.dill'\n",
    "    else:\n",
    "        data_path = '/Volumes/Farren/python_stuff/dat/' + BAND + '_2_data_3.dill'\n",
    "\n",
    "    mast_path = '/home/apati/MASTmelody_dataset/f0data'\n",
    "\n",
    "if BAND == 'mast':\n",
    "    dataset = MASTDataset(mast_path)\n",
    "    dataloader = MASTDataloader(dataset)\n",
    "    CTYPE = 1\n",
    "else:\n",
    "    dataset = PitchContourDataset(datasets_all[cross_instrument])\n",
    "    dataloader = PitchContourDataloader(dataset, NUM_DATA_POINTS, NUM_BATCHES)\n",
    "\n",
    "\n",
    "tr1, v1, vef, te1, tef = dataloader.create_split_data(1000, 500) #1000, 500 | 1500, 500 | 2000, 1000\n",
    "tr2, v2, _, te2, _ = dataloader.create_split_data(1500, 500)\n",
    "tr3, v3, _, te3, _ = dataloader.create_split_data(2000, 1000)\n",
    "#tr4, v4, _, te4, _ = dataloader.create_split_data(2500, 1000)\n",
    "#tr5, v5, _, te5, _ = dataloader.create_split_data(3000, 1500)\n",
    "#tr6, v6, vef, te6, tef = dataloader.create_split_data(4000, 2000)\n",
    "training_data = tr1 + tr2 + tr3 #+ tr2 + tr3 #+ tr4 + tr5 + tr6     # this is the proper training data split\n",
    "validation_data = vef #+ v2 + v3 + v4 + v5 + v6\n",
    "testing_data = te1 + te2 + te3 #+ te4 + te5 + te6\n",
    "\n",
    "\n",
    "## augment data\n",
    "aug_training_data = train_utils.augment_data(training_data)\n",
    "aug_training_data = train_utils.augment_data(aug_training_data)\n",
    "aug_validation_data = validation_data  #train_utils.augment_data(validation_data)\n",
    "\n",
    "\n",
    "## initialize model\n",
    "if MTYPE == 'conv':\n",
    "    if BAND == 'mast':\n",
    "        perf_model = PCConvNetCls(1)\n",
    "    else:\n",
    "        perf_model = PCConvNet(0)\n",
    "elif MTYPE == 'lstm':\n",
    "    if BAND == 'mast':\n",
    "        perf_model = PCConvLstmNetCls()\n",
    "    else:\n",
    "        perf_model = PCConvLstmNet()        \n",
    "if torch.cuda.is_available():\n",
    "    perf_model.cuda()\n",
    "if BAND == 'mast':\n",
    "    criterion = nn.CrossEntropyLoss()\n",
    "else:\n",
    "    criterion = nn.MSELoss()\n",
    "\n",
    "\n",
    "# test\n",
    "# test of full length data\n",
    "#test_loss, test_r_sq, test_accu, test_accu2 = eval_utils.eval_model(perf_model, criterion, testing_data, METRIC, MTYPE, CTYPE)\n",
    "#print('[%s %0.5f, %s %0.5f, %s %0.5f %0.5f]'% ('Testing Loss: ', test_loss, ' R-sq: ', test_r_sq, ' Accu:', test_accu, test_accu2))\n",
    "\n",
    "# validate and test on best validation model\n",
    "# read the model\n",
    "#filename = file_info + '_Reg'"
   ]
  },
  {
   "cell_type": "code",
   "execution_count": 116,
   "metadata": {},
   "outputs": [
    {
     "name": "stdout",
     "output_type": "stream",
     "text": [
      "[Valid Loss:  0.04619,  R-sq:  0.44393,  Accu: 0.14130 0.85870]\n",
      "[Testing Loss:  0.06869,  R-sq:  0.21798,  Accu: 0.13881 0.76698]\n"
     ]
    }
   ],
   "source": [
    "filename = NAME #if instrument == 'saxophone' else NAME + '_best'\n",
    "if torch.cuda.is_available():\n",
    "    perf_model.cuda()\n",
    "    #perf_model.load_state_dict(torch.load('/Users/michaelfarren/Desktop/MusicPerfAssessment-master/src/runs/' + filename + '.pt'))\n",
    "    perf_model.load_state_dict(torch.load('pc_runs/' + filename))\n",
    "\n",
    "else:\n",
    "    perf_model.load_state_dict(torch.load('pc_runs/' + filename + '.pt', map_location=lambda storage, loc: storage))\n",
    "\n",
    "preds, targets = eval_utils.eval_model_preds(perf_model, criterion, vef, METRIC, MTYPE, CTYPE)\n",
    "\n",
    "val_loss, val_r_sq, val_accu, val_accu2 = eval_utils.eval_model(perf_model, criterion, vef, METRIC, MTYPE, CTYPE)\n",
    "print('[%s %0.5f, %s %0.5f, %s %0.5f %0.5f]'% ('Valid Loss: ', val_loss, ' R-sq: ', val_r_sq, ' Accu:', val_accu, val_accu2))\n",
    "\n",
    "test_loss, test_r_sq, test_accu, test_accu2 = eval_utils.eval_model(perf_model, criterion, testing_data, METRIC, MTYPE, CTYPE)\n",
    "print('[%s %0.5f, %s %0.5f, %s %0.5f %0.5f]'% ('Testing Loss: ', test_loss, ' R-sq: ', test_r_sq, ' Accu:', test_accu, test_accu2))"
   ]
  },
  {
   "cell_type": "code",
   "execution_count": 117,
   "metadata": {},
   "outputs": [
    {
     "data": {
      "text/plain": [
       "<matplotlib.legend.Legend at 0x7f6030606af0>"
      ]
     },
     "execution_count": 117,
     "metadata": {},
     "output_type": "execute_result"
    },
    {
     "data": {
      "image/png": "[encoded data removed]",
      "text/plain": [
       "<Figure size 432x288 with 1 Axes>"
      ]
     },
     "metadata": {
      "needs_background": "light"
     },
     "output_type": "display_data"
    }
   ],
   "source": [
    "#print(targets.T.flatten())\n",
    "m, b = np.polyfit(targets.cpu().T.flatten(), preds.cpu(), 1)\n",
    "plot.scatter(targets.cpu(), preds.cpu())\n",
    "plot.title(instrument+' predictions on '+ cross_instrument + ' for '+metric_type[METRIC])\n",
    "plot.xlabel('Actual Score')\n",
    "plot.ylabel('Predicted Score')\n",
    "plot.plot(targets.cpu(), targets.cpu(), 'k', label='r^2 = 1')\n",
    "plot.plot(targets.cpu(), targets.cpu() * m + b, 'r', label='linear regression')\n",
    "plot.legend(bbox_to_anchor=(1.05, 1), loc='upper left', borderaxespad=0.)"
   ]
  },
  {
   "cell_type": "code",
   "execution_count": 118,
   "metadata": {},
   "outputs": [
    {
     "data": {
      "text/plain": [
       "Text(0, 0.5, 'Abs. Distance of prediction')"
      ]
     },
     "execution_count": 118,
     "metadata": {},
     "output_type": "execute_result"
    },
    {
     "data": {
      "image/png": "[encoded data removed]",
      "text/plain": [
       "<Figure size 432x288 with 1 Axes>"
      ]
     },
     "metadata": {
      "needs_background": "light"
     },
     "output_type": "display_data"
    }
   ],
   "source": [
    "dist = np.abs(targets.cpu().T.flatten() - preds.cpu())\n",
    "plot.scatter(targets.cpu(), dist.cpu())\n",
    "plot.title(instrument+' predictions on '+ cross_instrument + ' for '+metric_type[METRIC])\n",
    "plot.xlabel('Actual Score')\n",
    "plot.ylabel('Abs. Distance of prediction')\n",
    "#plot.plot(targets.cpu(), targets.cpu(), 'k', label='r^2 = 1')\n",
    "#plot.plot(targets.cpu(), targets.cpu() * m + b, 'r', label='linear regression')\n",
    "#plot.legend(bbox_to_anchor=(1.05, 1), loc='upper left', borderaxespad=0.)"
   ]
  },
  {
   "cell_type": "code",
   "execution_count": 119,
   "metadata": {},
   "outputs": [],
   "source": [
    "def r2(targ, pred):\n",
    "    if len(targ) != len(pred):\n",
    "        return 'targets length != predictions length'\n",
    "    RSS = sum([(targ[i] - pred[i])**2 for i in range(len(targ))])\n",
    "    mean = torch.mean(targ).item()\n",
    "    TSS = sum([(targ[i] - mean)**2 for i in range(len(targ))])\n",
    "    return 1 - (RSS/TSS).item()"
   ]
  },
  {
   "cell_type": "code",
   "execution_count": 120,
   "metadata": {},
   "outputs": [
    {
     "name": "stdout",
     "output_type": "stream",
     "text": [
      "0.44393253326416016\n"
     ]
    }
   ],
   "source": [
    "print(r2(targets.flatten(), preds))"
   ]
  },
  {
   "cell_type": "code",
   "execution_count": 121,
   "metadata": {},
   "outputs": [],
   "source": [
    "def makeHist(instrument, metric, data):\n",
    "    plot.figure()\n",
    "    plot.hist(data, bins=20)\n",
    "    plot.title('{0} - {1}'.format(instrument, metric))\n",
    "    plot.show()"
   ]
  },
  {
   "cell_type": "code",
   "execution_count": 122,
   "metadata": {},
   "outputs": [
    {
     "data": {
      "image/png": "[encoded data removed]",
      "text/plain": [
       "<Figure size 432x288 with 1 Axes>"
      ]
     },
     "metadata": {
      "needs_background": "light"
     },
     "output_type": "display_data"
    }
   ],
   "source": [
    "makeHist('{0} tested on {1}'.format(instrument, cross_instrument, metric_type[METRIC]), metric_type[METRIC] + ' predictions', preds.cpu())"
   ]
  },
  {
   "cell_type": "code",
   "execution_count": 123,
   "metadata": {},
   "outputs": [
    {
     "data": {
      "image/png": "[encoded data removed]",
      "text/plain": [
       "<Figure size 432x288 with 1 Axes>"
      ]
     },
     "metadata": {
      "needs_background": "light"
     },
     "output_type": "display_data"
    },
    {
     "data": {
      "image/png": "[encoded data removed]",
      "text/plain": [
       "<Figure size 432x288 with 1 Axes>"
      ]
     },
     "metadata": {
      "needs_background": "light"
     },
     "output_type": "display_data"
    },
    {
     "name": "stdout",
     "output_type": "stream",
     "text": [
      "r2: 0.44393253326416016\n"
     ]
    }
   ],
   "source": [
    "makeHist('{0} tested on {1}'.format(instrument, cross_instrument, metric_type[METRIC]), metric_type[METRIC] + ' predictions', preds.cpu())\n",
    "makeHist('{0} tested on {1}'.format(instrument, cross_instrument), metric_type[METRIC] + ' targets', targets.flatten().cpu())\n",
    "print('r2: {}'.format(r2(targets.flatten(), preds)))"
   ]
  },
  {
   "cell_type": "code",
   "execution_count": 113,
   "metadata": {},
   "outputs": [
    {
     "name": "stdout",
     "output_type": "stream",
     "text": [
      "Mean X: 0.5000000596046448\n",
      "Mean Y: 0.7499999403953552\n",
      "r2 score: -1.9223525524139404\n",
      "Linreg slope: 1.1999999826094527\n"
     ]
    },
    {
     "data": {
      "text/plain": [
       "<matplotlib.collections.PathCollection at 0x7f5fd55c1610>"
      ]
     },
     "execution_count": 113,
     "metadata": {},
     "output_type": "execute_result"
    },
    {
     "data": {
      "image/png": "[encoded data removed]",
      "text/plain": [
       "<Figure size 432x288 with 1 Axes>"
      ]
     },
     "metadata": {
      "needs_background": "light"
     },
     "output_type": "display_data"
    }
   ],
   "source": [
    "test_x = torch.Tensor(np.linspace(0.2, 0.8)) #50 samples\n",
    "test_y = torch.Tensor(np.linspace(0.5, 1))   #50 samples\n",
    "print('Mean X: {}'.format(torch.mean(test_x)))\n",
    "print('Mean Y: {}'.format(torch.mean(test_y)))\n",
    "print('r2 score: ' +str(r2(test_y, test_x)))\n",
    "m, b = np.polyfit(test_y, test_x, 1)\n",
    "print('Linreg slope: '+ str(m))\n",
    "plot.scatter(test_y, test_x)\n",
    "#print(metrics.r2_score(test_y, test_x))"
   ]
  },
  {
   "cell_type": "code",
   "execution_count": 124,
   "metadata": {},
   "outputs": [
    {
     "name": "stdout",
     "output_type": "stream",
     "text": [
      "tensor(0.7402)\n"
     ]
    }
   ],
   "source": [
    "print(torch.mean(targets))"
   ]
  },
  {
   "cell_type": "code",
   "execution_count": null,
   "metadata": {},
   "outputs": [],
   "source": []
  }
 ],
 "metadata": {
  "kernelspec": {
   "display_name": "Python 3",
   "language": "python",
   "name": "python3"
  },
  "language_info": {
   "codemirror_mode": {
    "name": "ipython",
    "version": 3
   },
   "file_extension": ".py",
   "mimetype": "text/x-python",
   "name": "python",
   "nbconvert_exporter": "python",
   "pygments_lexer": "ipython3",
   "version": "3.8.1"
  }
 },
 "nbformat": 4,
 "nbformat_minor": 4
}